{
 "cells": [
  {
   "cell_type": "code",
   "execution_count": 1,
   "id": "e8eb944a-191a-4e8e-82cc-9442cca4f854",
   "metadata": {},
   "outputs": [
    {
     "name": "stdout",
     "output_type": "stream",
     "text": [
      "hellow world\n"
     ]
    }
   ],
   "source": [
    "print('hellow world')"
   ]
  },
  {
   "cell_type": "code",
   "execution_count": 2,
   "id": "f88899a6-78fb-4c15-83c4-5a4e5038ab5e",
   "metadata": {},
   "outputs": [
    {
     "name": "stdout",
     "output_type": "stream",
     "text": [
      "hellow world 2\n"
     ]
    }
   ],
   "source": [
    "print('hellow world 2')"
   ]
  },
  {
   "cell_type": "code",
   "execution_count": null,
   "id": "3b483125-1fe1-49c8-a474-e33554717b7b",
   "metadata": {},
   "outputs": [],
   "source": []
  }
 ],
 "metadata": {
  "kernelspec": {
   "display_name": "Python 3 (ipykernel)",
   "language": "python",
   "name": "python3"
  },
  "language_info": {
   "codemirror_mode": {
    "name": "ipython",
    "version": 3
   },
   "file_extension": ".py",
   "mimetype": "text/x-python",
   "name": "python",
   "nbconvert_exporter": "python",
   "pygments_lexer": "ipython3",
   "version": "3.13.5"
  }
 },
 "nbformat": 4,
 "nbformat_minor": 5
}
